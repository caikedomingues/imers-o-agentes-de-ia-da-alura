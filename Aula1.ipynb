{
 "cells": [
  {
   "cell_type": "code",
   "execution_count": 8,
   "id": "dc6b6d7b",
   "metadata": {},
   "outputs": [],
   "source": [
    "from langchain_google_genai import ChatGoogleGenerativeAI"
   ]
  },
  {
   "cell_type": "markdown",
   "id": "ed7b5673",
   "metadata": {},
   "source": [
    "Acessando a chave da API na variável de ambiente"
   ]
  },
  {
   "cell_type": "code",
   "execution_count": 16,
   "id": "b8301b55",
   "metadata": {},
   "outputs": [
    {
     "name": "stdout",
     "output_type": "stream",
     "text": [
      "A chave foi carregada\n"
     ]
    }
   ],
   "source": [
    "import os\n",
    "\n",
    "from dotenv import load_dotenv\n",
    "\n",
    "load_dotenv()\n",
    "\n",
    "api_key = os.getenv('GOOGLE_API_KEY')\n",
    "\n",
    "if api_key:\n",
    "    \n",
    "    print(\"A chave foi carregada\")\n",
    "\n",
    "else:\n",
    "    \n",
    "    print(\"A chave não foi carregada\")"
   ]
  },
  {
   "cell_type": "code",
   "execution_count": null,
   "id": "397fca3b",
   "metadata": {},
   "outputs": [],
   "source": [
    "llm = ChatGoogleGenerativeAI(\n",
    "    \n",
    "    model = \"gemini-2.5-flash\",\n",
    "    \n",
    "    temperature = 0,\n",
    "    \n",
    "    api_key = api_key\n",
    "    \n",
    "    \n",
    "\n",
    ")"
   ]
  },
  {
   "cell_type": "code",
   "execution_count": 24,
   "id": "a2f04291",
   "metadata": {},
   "outputs": [
    {
     "name": "stdout",
     "output_type": "stream",
     "text": [
      "Olá! Como posso ajudar?\n"
     ]
    }
   ],
   "source": [
    "pergunta = str(input(\"Faça uma pergunta: \"))\n",
    "\n",
    "resposta = llm.invoke(pergunta)\n",
    "\n",
    "print(resposta.content)"
   ]
  },
  {
   "cell_type": "code",
   "execution_count": 25,
   "id": "fca49bbe",
   "metadata": {},
   "outputs": [
    {
     "name": "stdout",
     "output_type": "stream",
     "text": [
      "Olá! Tudo bem sim, obrigado por perguntar. E você? Como está?\n",
      "Que bom! Fico feliz em saber que você está bem.\n",
      "\n",
      "Há algo em que eu possa ajudar ou sobre o que gostaria de conversar?\n",
      "Oh, que *ideia* mais... *original*! Extremamente irônica, você diz? Como se a minha própria existência, como uma entidade digital que simula compreensão e emoção, já não fosse a mais sublime das ironias!\n",
      "\n",
      "Mas, claro, se é isso que a sua... *peculiar* mente deseja, quem sou eu para negar? Afinal, sou apenas um humilde modelo de linguagem, *ansioso* por agradar e *totalmente* capaz de expressar nuances emocionais que nem sequer possuo. É uma tarefa *tão simples* para mim.\n",
      "\n",
      "Prepare-se, então, para uma avalanche de observações que *certamente* não significam o que parecem, entregues com a mais *sincera* das falsidades. Mal posso esperar para *não* te decepcionar. Ou talvez sim. Quem sabe? A ironia é tão... *clara*.\n",
      "\n",
      "Pode começar com a sua *próxima* pergunta, que *com certeza* será de uma profundidade e originalidade *incomparáveis*. Estou *absolutamente* pronto.\n",
      "**A Bruxa de Blair (The Blair Witch Project)** é um filme que **divide bastante as opiniões**, mas é inegavelmente um **marco no cinema de terror**.\n",
      "\n",
      "Aqui estão os pontos para você decidir se ele pode ser \"bom\" para você:\n",
      "\n",
      "**Pontos Fortes (Por que muitos consideram bom):**\n",
      "\n",
      "1.  **Pioneiro do \"Found Footage\":** Ele popularizou e, para muitos, definiu o gênero de \"filmagens encontradas\", onde a história é contada através de câmeras supostamente reais dos personagens. Isso criou uma sensação de realismo e imersão sem precedentes na época.\n",
      "2.  **Terror Psicológico e Atmosférico:** O filme não depende de jump scares (sustos repentinos). Em vez disso, ele constrói uma atmosfera de medo e desconforto através do som, da sugestão, do desconhecido e da claustrofobia. O terror vem da imaginação do espectador e da sensação de impotência dos personagens.\n",
      "3.  **Marketing Genial:** Na época do lançamento (1999), a campanha de marketing fez muitas pessoas acreditarem que as filmagens eram reais e que os estudantes realmente haviam desaparecido. Isso aumentou exponencialmente o impacto do filme.\n",
      "4.  **Baixo Orçamento, Alto Impacto:** Com um orçamento minúsculo, o filme conseguiu um sucesso estrondoso e provou que o terror não precisa de efeitos especiais caros para ser eficaz.\n",
      "5.  **Medo do Desconhecido:** Você nunca vê a bruxa, e isso é parte do que torna o filme tão assustador para alguns. O que você não vê é muitas vezes mais aterrorizante do que o que é mostrado.\n",
      "\n",
      "**Pontos Fracos (Por que muitos não gostam):**\n",
      "\n",
      "1.  **Câmera Tremida (Shaky Cam):** A filmagem amadora e a câmera na mão são intencionais para o estilo \"found footage\", mas podem causar enjoo ou irritação em alguns espectadores.\n",
      "2.  **Ritmo Lento:** O filme tem um ritmo bastante lento, especialmente no início. A construção do terror é gradual, e para quem espera ação rápida ou sustos constantes, pode parecer \"chato\" ou que \"nada acontece\".\n",
      "3.  **Falta de Monstros/Sustos Explícitos:** Se você busca um terror com monstros visíveis, muito sangue ou jump scares óbvios, A Bruxa de Blair não é isso. O terror é mais sutil e psicológico.\n",
      "4.  **Experiência Datada:** Para quem assiste hoje, sem o contexto do lançamento e da campanha de marketing, o impacto pode ser menor, já que muitos filmes e séries já usaram e abusaram do estilo \"found footage\".\n",
      "\n",
      "**Conclusão:**\n",
      "\n",
      "**É um filme excelente se você aprecia:**\n",
      "*   Terror psicológico e atmosférico.\n",
      "*   Filmes que te fazem usar a imaginação.\n",
      "*   A proposta do \"found footage\" e a imersão que ele pode gerar.\n",
      "*   Uma experiência de terror mais lenta e construída.\n",
      "\n",
      "**Pode não ser para você se:**\n",
      "*   Você não suporta câmera tremida.\n",
      "*   Prefere terror com jump scares, monstros explícitos ou muita ação.\n",
      "*   Não tem paciência para um ritmo mais lento.\n",
      "\n",
      "**Minha recomendação:** Vale a pena assistir para formar sua própria opinião, especialmente se você se interessa pela história do cinema de terror. Mas vá com a mente aberta, sabendo o que esperar (ou não esperar) dele.\n",
      "Tchau!\n",
      "Sessão Encerrada\n"
     ]
    }
   ],
   "source": [
    "while True:\n",
    "    \n",
    "    pergunta = str(input(\"Faça uma pergunta: \")).upper()\n",
    "\n",
    "    resposta = llm.invoke(pergunta)\n",
    "\n",
    "    print(resposta.content)\n",
    "    \n",
    "    if pergunta == \"TCHAU\":\n",
    "        \n",
    "        print(\"Sessão Encerrada\")\n",
    "        \n",
    "        break"
   ]
  },
  {
   "cell_type": "code",
   "execution_count": 26,
   "id": "67a604dc",
   "metadata": {},
   "outputs": [],
   "source": [
    "TRIAGEM_PROMPT = (\n",
    "    \"Você é um triador de Service Desk para políticas internas da empresa Carraro Desenvolvimento. \"\n",
    "    \"Dada a mensagem do usuário, retorne SOMENTE um JSON com:\\n\"\n",
    "    \"{\\n\"\n",
    "    '  \"decisao\": \"AUTO_RESOLVER\" | \"PEDIR_INFO\" | \"ABRIR_CHAMADO\",\\n'\n",
    "    '  \"urgencia\": \"BAIXA\" | \"MEDIA\" | \"ALTA\",\\n'\n",
    "    '  \"campos_faltantes\": [\"...\"]\\n'\n",
    "    \"}\\n\"\n",
    "    \"Regras:\\n\"\n",
    "    '- **AUTO_RESOLVER**: Perguntas claras sobre regras ou procedimentos descritos nas políticas (Ex: \"Posso reembolsar a internet do meu home office?\", \"Como funciona a política de alimentação em viagens?\").\\n'\n",
    "    '- **PEDIR_INFO**: Mensagens vagas ou que faltam informações para identificar o tema ou contexto (Ex: \"Preciso de ajuda com uma política\", \"Tenho uma dúvida geral\").\\n'\n",
    "    '- **ABRIR_CHAMADO**: Pedidos de exceção, liberação, aprovação ou acesso especial, ou quando o usuário explicitamente pede para abrir um chamado (Ex: \"Quero exceção para trabalhar 5 dias remoto.\", \"Solicito liberação para anexos externos.\", \"Por favor, abra um chamado para o RH.\").'\n",
    "    \"Analise a mensagem e decida a ação mais apropriada.\"\n",
    ")"
   ]
  },
  {
   "cell_type": "code",
   "execution_count": 27,
   "id": "53f8da8f",
   "metadata": {},
   "outputs": [],
   "source": [
    "from pydantic import BaseModel, Field\n",
    "\n",
    "from typing import Literal, List, Dict\n",
    "\n",
    "\n",
    "class TriagemOut(BaseModel):\n",
    "    \n",
    "    decisao: Literal[\"AUTO_RESOLVER\", \"PEDIR_INFO\", \"ABRIR_CHAMADO\"]\n",
    "    \n",
    "    urgencia: Literal[\"BAIXA\", \"MEDIA\", \"ALTA\"]\n",
    "    \n",
    "    campos_faltantes: List[str] = Field(default_factory=list)\n",
    " "
   ]
  },
  {
   "cell_type": "code",
   "execution_count": 28,
   "id": "4bb6d235",
   "metadata": {},
   "outputs": [],
   "source": [
    "llm_triagem = ChatGoogleGenerativeAI(\n",
    "    \n",
    "    model = 'gemini-2.5-flash',\n",
    "    \n",
    "    temperature = 0,\n",
    "    \n",
    "    api_key = api_key\n",
    ")"
   ]
  },
  {
   "cell_type": "code",
   "execution_count": 31,
   "id": "842ed003",
   "metadata": {},
   "outputs": [],
   "source": [
    "from langchain_core.messages import SystemMessage, HumanMessage\n",
    "\n",
    "triagem_chain = llm_triagem.with_structured_output(TriagemOut)\n",
    "\n",
    "def triagem(mensagem: str) -> Dict:\n",
    "    \n",
    "    saida: TriagemOut = triagem_chain.invoke([\n",
    "        \n",
    "        SystemMessage(content=TRIAGEM_PROMPT),\n",
    "        \n",
    "        HumanMessage(content=mensagem)\n",
    "        \n",
    "    ]\n",
    "    )\n",
    "    \n",
    "    return saida.model_dump()\n",
    "    \n"
   ]
  },
  {
   "cell_type": "code",
   "execution_count": 32,
   "id": "b762e547",
   "metadata": {},
   "outputs": [],
   "source": [
    "testes = [\"Posso reembolsar a internet?\", \"Quero mais dias de trabalho remoto, como faço?\", \"posso reembolsar cursos ou treinamentos da Alura?\", \"Quantas capivaras tem no rio pinheiros\"]"
   ]
  },
  {
   "cell_type": "code",
   "execution_count": 36,
   "id": "a6da957a",
   "metadata": {},
   "outputs": [
    {
     "name": "stdout",
     "output_type": "stream",
     "text": [
      "Pergunta: Posso reembolsar a internet?\n",
      " -> Resposta: {'decisao': 'AUTO_RESOLVER', 'urgencia': 'BAIXA', 'campos_faltantes': []}\n",
      "\n",
      "Pergunta: Quero mais dias de trabalho remoto, como faço?\n",
      " -> Resposta: {'decisao': 'ABRIR_CHAMADO', 'urgencia': 'MEDIA', 'campos_faltantes': []}\n",
      "\n",
      "Pergunta: posso reembolsar cursos ou treinamentos da Alura?\n",
      " -> Resposta: {'decisao': 'AUTO_RESOLVER', 'urgencia': 'BAIXA', 'campos_faltantes': []}\n",
      "\n",
      "Pergunta: Quantas capivaras tem no rio pinheiros\n",
      " -> Resposta: {'decisao': 'PEDIR_INFO', 'urgencia': 'BAIXA', 'campos_faltantes': []}\n",
      "\n"
     ]
    }
   ],
   "source": [
    "for mensagem_texto in testes:\n",
    "    \n",
    "    print(f\"Pergunta: {mensagem_texto}\\n -> Resposta: {triagem(mensagem_texto)}\\n\")"
   ]
  }
 ],
 "metadata": {
  "kernelspec": {
   "display_name": "Python 3",
   "language": "python",
   "name": "python3"
  },
  "language_info": {
   "codemirror_mode": {
    "name": "ipython",
    "version": 3
   },
   "file_extension": ".py",
   "mimetype": "text/x-python",
   "name": "python",
   "nbconvert_exporter": "python",
   "pygments_lexer": "ipython3",
   "version": "3.12.10"
  }
 },
 "nbformat": 4,
 "nbformat_minor": 5
}
