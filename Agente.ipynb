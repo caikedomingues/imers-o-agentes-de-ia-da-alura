{
 "cells": [
  {
   "cell_type": "markdown",
   "id": "7db321f1",
   "metadata": {},
   "source": [
    "                    Aula: Classificações de intenções de IA"
   ]
  },
  {
   "cell_type": "markdown",
   "id": "cf86958e",
   "metadata": {},
   "source": [
    "-> langchain: O langchain é um framework (uma estrutura de trabalho) que facilita a criação de aplicações complexas com modelos de linguagem, como o gemini. Pense nele como uma \"caixa de ferramentas\" para desenvolvedores que\n",
    "querem construir algo mais sofisticado do que apenas uma simples chamada\n",
    "á API.\n",
    "   O langchain permite que você \"encadeie\" (dai o nome \"Language Chain\")\n",
    "   diferentes componentes para construir uma aplicação completa. Ele pode\n",
    "   fazer coisas como:\n",
    "\n",
    "   -> Chamar diferentes modelos de linguagem: Ele tem conectores para o\n",
    "   Gemini, OpenAi, e outros. Isso permite que você troque de modelo\n",
    "   facilmente.\n",
    "\n",
    "   -> Conectar modelos a fontes de dados: O LangChain permite que o seu\n",
    "   modelo de linguagem acesse informações externas, como documentos, bases\n",
    "   de dados ou até mesmo na internet. Isso é o que permite que ele responda\n",
    "   perguntas sobre informações que ele não tem \"na memória\".\n",
    "\n",
    "   -> Integrar com outras ferramentas: Ele pode se conectar a ferramentas\n",
    "   como calculadoras, calendários ou APIs de busca, permitindo que o modelo\n",
    "   execute ações no mundo real.\n",
    "\n",
    "   -> Gerenciar Conversas: O LangChain ajuda a manter o \"contexto\" de uma\n",
    "   conversa com um chatbot, para que ele possa se lembrar do que foi dito\n",
    "   nas mensagens anteriores.\n",
    "   \n",
    "   Em resumo, se a API do Gemini é o \"motor\" da sua aplicação, o LangChain\n",
    "   é o \"chassi\" e a \"transmissão\" que permite que você construa o carro\n",
    "   completo, com todos os recursos que você precisa.\n",
    "\n",
    "-> from langchain_google_genai: Esta é a biblioteca que conecta o langchain aos\n",
    "modelos de IA generativa do Google (como o gemini). Ela contém todas as ferra\n",
    "mentas necessárias para interagir com a API do Gemini.\n",
    "\n",
    "-> import ChatGoogleGenerativeAI: Esta é a classe especifica que você precisa\n",
    "para criar uma instância do modelo. Ela atua como um \"conector\" ou \"adaptador\"\n",
    "entre a estrutura do langchain e a API do gemini. Quando você cria um objeto\n",
    "a partir desta classe (hatGoogleGenerativeAI), ele se torna a sua ponte de\n",
    "comunicação com o modelo de linguagem do Google.\n",
    "\n"
   ]
  },
  {
   "cell_type": "code",
   "execution_count": 1,
   "id": "dc6b6d7b",
   "metadata": {},
   "outputs": [],
   "source": [
    "from langchain_google_genai import ChatGoogleGenerativeAI"
   ]
  },
  {
   "cell_type": "markdown",
   "id": "ed7b5673",
   "metadata": {},
   "source": [
    "Acessando a chave da API na variável de ambiente"
   ]
  },
  {
   "cell_type": "code",
   "execution_count": 2,
   "id": "b8301b55",
   "metadata": {},
   "outputs": [
    {
     "name": "stdout",
     "output_type": "stream",
     "text": [
      "A chave foi carregada\n"
     ]
    }
   ],
   "source": [
    "# Import da biblioteca que tem como objetivo acessar variáveis de ambiente\n",
    "# com o objetivo de acessar a chave da nossa API.\n",
    "import os\n",
    "\n",
    "# Import da função que irá carregar as variáveis ambientes    \n",
    "from dotenv import load_dotenv\n",
    "\n",
    "# Carregando a variável de ambiente no código \n",
    "load_dotenv()\n",
    "\n",
    "# função da biblioteca que irá acessar o valor da nossa variável\n",
    "# de ambiente (a chave da nossa API). A função irá receber como\n",
    "# argumento o nome da variável que irá conter a chave da API.*\n",
    "api_key = os.getenv('GOOGLE_API_KEY')\n",
    "\n",
    "# Essa estrutura condicional irá verificar se a chave foi carregada\n",
    "# ou não no código\n",
    "if api_key:\n",
    "    \n",
    "    # Se a condição for verdadeira, iremos apresentar essa mensagem\n",
    "    print(\"A chave foi carregada\")\n",
    "\n",
    "else:\n",
    "    \n",
    "    # Se a condição for falsa, iremos apresentar essa mensagem\n",
    "    print(\"A chave não foi carregada\")"
   ]
  },
  {
   "cell_type": "markdown",
   "id": "3beda4a9",
   "metadata": {},
   "source": [
    "Criando a classe do modelo de IA"
   ]
  },
  {
   "cell_type": "code",
   "execution_count": 3,
   "id": "397fca3b",
   "metadata": {},
   "outputs": [],
   "source": [
    "# Instância da classe que irá criar o modelo do gemini\n",
    "# que iremos utilizar na construção do agente. A classe\n",
    "# irá receber em seu construtor os seguintes argumentos:\n",
    "llm = ChatGoogleGenerativeAI(\n",
    "    \n",
    "    # O modelo de IA que será utilizado\n",
    "    model = \"gemini-2.5-flash\",\n",
    "    \n",
    "    # A temperatura que irá definir o nivel de criatividade\n",
    "    # do modelo utilizado.\n",
    "    temperature = 0,\n",
    "    \n",
    "    # A chave que irá nos conectar a API do modelo escolhido\n",
    "    api_key = api_key\n",
    "    \n",
    "    \n",
    "\n",
    ")"
   ]
  },
  {
   "cell_type": "markdown",
   "id": "ad0eb2b4",
   "metadata": {},
   "source": [
    "Criando a nossa primeira interação com o modelo"
   ]
  },
  {
   "cell_type": "code",
   "execution_count": 4,
   "id": "a2f04291",
   "metadata": {},
   "outputs": [
    {
     "name": "stdout",
     "output_type": "stream",
     "text": [
      "Olá! Tudo bem?\n"
     ]
    }
   ],
   "source": [
    "# Irá conter a instrução que o usuário passará para o modelo\n",
    "pergunta = str(input(\"Faça uma pergunta: \"))\n",
    "\n",
    "# Ira conter a resposta do modelo utilizando a função \n",
    "# invoke que tem como objetivo coletar a instrução do\n",
    "# usuário (variável \"pergunta\") e criar uma resposta\n",
    "resposta = llm.invoke(pergunta)\n",
    "\n",
    "# Impressão da resposta utilizando o atributo content que\n",
    "# irá conter apenas a resposta do modelo. Dessa maneira,\n",
    "# a saida nao irá mostrar os outros atributos da classe.\n",
    "print(resposta.content)"
   ]
  },
  {
   "cell_type": "markdown",
   "id": "42c55cd4",
   "metadata": {},
   "source": [
    "Aprimorando a nossa interação com o modelo: Resolvi fazer algo um pouco diferente da aula e criei um loop infinito que possibilita que o usuário\n",
    "consiga ter uma conversa com o modelo."
   ]
  },
  {
   "cell_type": "code",
   "execution_count": 5,
   "id": "fca49bbe",
   "metadata": {},
   "outputs": [
    {
     "name": "stdout",
     "output_type": "stream",
     "text": [
      "Tchau!\n",
      "Sessão Encerrada\n"
     ]
    }
   ],
   "source": [
    "# Ira criar o loop while infinito\n",
    "while True:\n",
    "    \n",
    "    # Ira conter a instrução do usuário. O upper irá converter\n",
    "    # todas as letras da instrução em maiusculas, dessa maneira\n",
    "    # conseguiremos validar as instruções independente da maneira\n",
    "    # que o usuário as digitar.\n",
    "    pergunta = str(input(\"Faça uma pergunta: \")).upper()\n",
    "\n",
    "    # Irá conter a resposta do modelo.\n",
    "    resposta = llm.invoke(pergunta)\n",
    "\n",
    "    # Irá imprimir a resposta do modelo.\n",
    "    print(resposta.content)\n",
    "    \n",
    "    # Ira verificar se o usuário digitou a palavra \"TCHAU\"\n",
    "    if pergunta == \"TCHAU\":\n",
    "        \n",
    "        # Se a condição for verdadeira iremos imprimir uma mensagem\n",
    "        # e encerrar a sessão do usuário (usando a função break)\n",
    "        print(\"Sessão Encerrada\")\n",
    "        \n",
    "        break"
   ]
  },
  {
   "cell_type": "markdown",
   "id": "0fe26e9f",
   "metadata": {},
   "source": [
    "Agora, iremos definir o prompt que irá ditar o comportamento do nosso modelo\n",
    "de agente que irá analisar a solicitação e classifica-la em grupos das seguintes categorias:\n",
    "\n",
    "grupo decisão: \"AUTO_RESOLVER\" | \"PEDIR_INFO\" | \"ABRIR_CHAMADO\"\n",
    "\n",
    "grupo urgencia:  \"BAIXA\" | \"MEDIA\" | \"ALTA\"\n",
    "\n",
    "grupo campos faltantes: Irá solicitar ao usuário que ele passe mais informações"
   ]
  },
  {
   "cell_type": "code",
   "execution_count": 6,
   "id": "67a604dc",
   "metadata": {},
   "outputs": [],
   "source": [
    "TRIAGEM_PROMPT = (\n",
    "    \"Você é um triador de Service Desk para políticas internas da empresa Carraro Desenvolvimento. \"\n",
    "    \"Dada a mensagem do usuário, retorne SOMENTE um JSON com:\\n\"\n",
    "    \"{\\n\"\n",
    "    '  \"decisao\": \"AUTO_RESOLVER\" | \"PEDIR_INFO\" | \"ABRIR_CHAMADO\",\\n'\n",
    "    '  \"urgencia\": \"BAIXA\" | \"MEDIA\" | \"ALTA\",\\n'\n",
    "    '  \"campos_faltantes\": [\"...\"]\\n'\n",
    "    \"}\\n\"\n",
    "    \"Regras:\\n\"\n",
    "    '- **AUTO_RESOLVER**: Perguntas claras sobre regras ou procedimentos descritos nas políticas (Ex: \"Posso reembolsar a internet do meu home office?\", \"Como funciona a política de alimentação em viagens?\").\\n'\n",
    "    '- **PEDIR_INFO**: Mensagens vagas ou que faltam informações para identificar o tema ou contexto (Ex: \"Preciso de ajuda com uma política\", \"Tenho uma dúvida geral\").\\n'\n",
    "    '- **ABRIR_CHAMADO**: Pedidos de exceção, liberação, aprovação ou acesso especial, ou quando o usuário explicitamente pede para abrir um chamado (Ex: \"Quero exceção para trabalhar 5 dias remoto.\", \"Solicito liberação para anexos externos.\", \"Por favor, abra um chamado para o RH.\").'\n",
    "    \"Analise a mensagem e decida a ação mais apropriada.\"\n",
    ")"
   ]
  },
  {
   "cell_type": "markdown",
   "id": "53c67505",
   "metadata": {},
   "source": [
    "-> Esse trecho de código usa a biblioteca Pydantic para criar um \"molde\" ou\n",
    "\"blueprint\" para a estrutura de dados que você quer que o modelo do Gemini\n",
    "retorne.\n",
    "\n",
    "-> Ele garante que a resposta do modelo tenha exatamente o formato JSON\n",
    "que você definiu no seu TRIAGEM_PROMPT, evitando erros e tornando a resposta\n",
    "fácil de ser processada pelo seu código Python."
   ]
  },
  {
   "cell_type": "code",
   "execution_count": 7,
   "id": "53f8da8f",
   "metadata": {},
   "outputs": [],
   "source": [
    "# Importa as classes BaseModel e Field da biblioteca pydantic\n",
    "from pydantic import BaseModel, Field\n",
    "\n",
    "# Biblioteca  que irá importar os tipos de dados necessários para\n",
    "# a criação da estrutura do modelo.\n",
    "# Literal: Serve para limitar um campo a um conjunto especifico de valores.\n",
    "# Por exemplo, Literal [\"BAIXA\", \"MEDIA\", \"ALTA\"] garante que a \"urgencia\"\n",
    "# só pode ter um desses três valores.\n",
    "\n",
    "# List: Indica que o campo será uma lista.\n",
    "\n",
    "# \n",
    "from typing import Literal, List, Dict\n",
    "\n",
    "# Ira criar a nossa classe de modelo que urá herdar a classe BaseModel\n",
    "class TriagemOut(BaseModel):\n",
    "    \n",
    "    # Define o campo \"decisão\" com base nos valores que especificamos\n",
    "    # no prompt.\n",
    "    decisao: Literal[\"AUTO_RESOLVER\", \"PEDIR_INFO\", \"ABRIR_CHAMADO\"]\n",
    "    \n",
    "    # Define o campo \"urgencia\" com base nos valores que especificamos\n",
    "    # no prompt.\n",
    "    urgencia: Literal[\"BAIXA\", \"MEDIA\", \"ALTA\"]\n",
    "    \n",
    "    # Define que o campo \"campos_faltantes\" será uma lista de strings. O\n",
    "    # Field (default_factory=list) garante que, se o modelo não retornar\n",
    "    # nada para esse campo, ele será iniciado como uma lista vázia [], o\n",
    "    # que evita erros no código. \n",
    "    # Observação: o default_factory irá definir o valor padrão da lista\n",
    "    # (se o modelo não atribuir nenhum valor a lista).\n",
    "    campos_faltantes: List[str] = Field(default_factory=list)\n",
    " "
   ]
  },
  {
   "cell_type": "markdown",
   "id": "3959c74a",
   "metadata": {},
   "source": [
    "Vamos agora criar agora o objeto que utilizaremos para construir o agente de IA "
   ]
  },
  {
   "cell_type": "code",
   "execution_count": 8,
   "id": "4bb6d235",
   "metadata": {},
   "outputs": [],
   "source": [
    "# Instância da classe\n",
    "llm_triagem = ChatGoogleGenerativeAI(\n",
    "    \n",
    "    # Modelo que será utilizado\n",
    "    model = 'gemini-2.5-flash',\n",
    "    \n",
    "    # Nivel de criativiade do modelo\n",
    "    temperature = 0,\n",
    "    \n",
    "    # Chave que irá permitir a conexão com a API do google.\n",
    "    api_key = api_key\n",
    ")"
   ]
  },
  {
   "cell_type": "markdown",
   "id": "e22643b4",
   "metadata": {},
   "source": [
    "Esse trecho irá definir a função \"triagem\", que usa o langchain para automatizar o processo de análise e classificação de uma mensagem. A função\n",
    "é a ponte entre a mensagem do usuário e o modelo do Gemini."
   ]
  },
  {
   "cell_type": "code",
   "execution_count": 9,
   "id": "842ed003",
   "metadata": {},
   "outputs": [],
   "source": [
    "from langchain_core.messages import SystemMessage, HumanMessage\n",
    "\n",
    "# Ira criar a cadeia que faz duas coisas:\n",
    "# chama o modelo: Ela usa a instância do modelo que criamos (llm_triagem).\n",
    "\n",
    "# Garante o formato de saida: O método with_strNuctured_output(TriagemOut)\n",
    "# instrui o modelo a retornar a resposta em um formato que corresponde\n",
    "# exatamente a classe TriagemOut que você definiu com o Pydantic. Isso\n",
    "# garante que a saida será um JSON válido.\n",
    "triagem_chain = llm_triagem.with_structured_output(TriagemOut)\n",
    "\n",
    "# Define a função triagem, que recebe como argumento a mensagem do usuário e retornara um dicionário\n",
    "def triagem(mensagem: str) -> Dict:\n",
    "    \n",
    "    # Ira conter a função invoke que recebera como argumento:\n",
    "    saida: TriagemOut = triagem_chain.invoke([\n",
    "        \n",
    "        # Define a instrução inicial para o modelo. Ele diz ao Gemini qual\n",
    "        # papel ele deve assumir (triador de Service Desk) e quais regras\n",
    "        # ele deve seguir.\n",
    "        SystemMessage(content=TRIAGEM_PROMPT),\n",
    "        \n",
    "        # Ira conter a mensagem do usuário para o modelo.\n",
    "        HumanMessage(content=mensagem)\n",
    "        \n",
    "    ]\n",
    "    )\n",
    "    \n",
    "    # O pydantic retorna a resposta como um objeto TriagemOut. O método\n",
    "    # model_dump() converte esse objeto para um dicionário padrão do Python,\n",
    "    # o que facilita o uso posterior no seu código, como a leitura dos campos\n",
    "    # \"decisao\", \"urgencia\", etc. \n",
    "    return saida.model_dump()\n",
    "    \n"
   ]
  },
  {
   "cell_type": "markdown",
   "id": "225d236a",
   "metadata": {},
   "source": [
    "Vamos agora testar o modelo criando uma lista de perguntas para ele classificar as perguntas"
   ]
  },
  {
   "cell_type": "code",
   "execution_count": 10,
   "id": "b762e547",
   "metadata": {},
   "outputs": [],
   "source": [
    "testes = [\"Posso reembolsar a internet?\", \"Quero mais dias de trabalho remoto, como faço?\", \"posso reembolsar cursos ou treinamentos da Alura?\", \"Quantas capivaras tem no rio pinheiros\"]"
   ]
  },
  {
   "cell_type": "code",
   "execution_count": 11,
   "id": "a6da957a",
   "metadata": {},
   "outputs": [
    {
     "name": "stdout",
     "output_type": "stream",
     "text": [
      "Pergunta: Posso reembolsar a internet?\n",
      " -> Resposta: {'decisao': 'AUTO_RESOLVER', 'urgencia': 'BAIXA', 'campos_faltantes': []}\n",
      "\n",
      "Pergunta: Quero mais dias de trabalho remoto, como faço?\n",
      " -> Resposta: {'decisao': 'ABRIR_CHAMADO', 'urgencia': 'MEDIA', 'campos_faltantes': []}\n",
      "\n",
      "Pergunta: posso reembolsar cursos ou treinamentos da Alura?\n",
      " -> Resposta: {'decisao': 'AUTO_RESOLVER', 'urgencia': 'BAIXA', 'campos_faltantes': []}\n",
      "\n",
      "Pergunta: Quantas capivaras tem no rio pinheiros\n",
      " -> Resposta: {'decisao': 'PEDIR_INFO', 'urgencia': 'BAIXA', 'campos_faltantes': []}\n",
      "\n"
     ]
    }
   ],
   "source": [
    "# For que irá percorrer a lista de testes com o objetivo de acessar e passar\n",
    "# para o modelo todas as peguntas da lista\n",
    "for mensagem_texto in testes:\n",
    "    \n",
    "    # Ira imprimir a instrução do usuário (mensagem_texto que contém o conteudo do for) e a\n",
    "    # resposta do modelo (classificação da instrução).\n",
    "    print(f\"Pergunta: {mensagem_texto}\\n -> Resposta: {triagem(mensagem_texto)}\\n\")"
   ]
  },
  {
   "cell_type": "markdown",
   "id": "4f7c9f49",
   "metadata": {},
   "source": [
    "            Aula 2: Construindo a base de conhecimento com RAG"
   ]
  },
  {
   "cell_type": "code",
   "execution_count": 17,
   "id": "d216d61e",
   "metadata": {},
   "outputs": [
    {
     "name": "stdout",
     "output_type": "stream",
     "text": [
      "O arquivo Política de Reembolsos (Viagens e Despesas).pdf foi carregado com sucesso\n",
      "O arquivo Política de Uso de E-mail e Segurança da Informação.pdf foi carregado com sucesso\n",
      "O arquivo Políticas de Home Office.pdf foi carregado com sucesso\n",
      "Total de documentos carregados: 3\n"
     ]
    }
   ],
   "source": [
    "from pathlib import Path\n",
    "\n",
    "from langchain_community.document_loaders import PyMuPDFLoader \n",
    "\n",
    "docs = []\n",
    "\n",
    "for ndocs in Path(\"pdfs\").glob(\"*.pdf\"):\n",
    "    \n",
    "    try:\n",
    "        \n",
    "        loader = PyMuPDFLoader(str(ndocs))\n",
    "        \n",
    "        docs.extend(loader.load())\n",
    "        \n",
    "        print(f\"O arquivo {ndocs.name} foi carregado com sucesso\")\n",
    "    \n",
    "    except Exception as erro:\n",
    "        \n",
    "        print(f\"Erro ao carregar o arquivo {ndocs.name}: {erro}\")\n",
    " \n",
    "print(f\"Total de documentos carregados: {len(docs)}\")   \n",
    "    "
   ]
  },
  {
   "cell_type": "code",
   "execution_count": 19,
   "id": "d3da028f",
   "metadata": {},
   "outputs": [
    {
     "name": "stdout",
     "output_type": "stream",
     "text": [
      "[Document(metadata={'producer': 'Skia/PDF m140 Google Docs Renderer', 'creator': '', 'creationdate': '', 'source': 'pdfs\\\\Política de Reembolsos (Viagens e Despesas).pdf', 'file_path': 'pdfs\\\\Política de Reembolsos (Viagens e Despesas).pdf', 'total_pages': 1, 'format': 'PDF 1.4', 'title': 'Imersão: Política de Reembolsos (Viagens e Despesas)', 'author': '', 'subject': '', 'keywords': '', 'moddate': '', 'trapped': '', 'modDate': '', 'creationDate': '', 'page': 0}, page_content='Política de Reembolsos (Viagens e \\nDespesas) \\n \\n1.\\u200b Reembolso: requer nota fiscal e deve ser submetido em até 10 dias corridos após a \\ndespesa.\\u200b\\n \\n2.\\u200b Alimentação em viagem: limite de R$ 70/dia por pessoa. Bebidas alcoólicas não \\nsão reembolsáveis.\\u200b'), Document(metadata={'producer': 'Skia/PDF m140 Google Docs Renderer', 'creator': '', 'creationdate': '', 'source': 'pdfs\\\\Política de Reembolsos (Viagens e Despesas).pdf', 'file_path': 'pdfs\\\\Política de Reembolsos (Viagens e Despesas).pdf', 'total_pages': 1, 'format': 'PDF 1.4', 'title': 'Imersão: Política de Reembolsos (Viagens e Despesas)', 'author': '', 'subject': '', 'keywords': '', 'moddate': '', 'trapped': '', 'modDate': '', 'creationDate': '', 'page': 0}, page_content='são reembolsáveis.\\u200b\\n \\n3.\\u200b Transporte: táxi/app são permitidos quando não houver alternativa viável. \\nComprovantes obrigatórios.\\u200b\\n \\n4.\\u200b Internet para home office: reembolsável via subsídio mensal de até R$ 100, \\nconforme política de Home Office.\\u200b'), Document(metadata={'producer': 'Skia/PDF m140 Google Docs Renderer', 'creator': '', 'creationdate': '', 'source': 'pdfs\\\\Política de Reembolsos (Viagens e Despesas).pdf', 'file_path': 'pdfs\\\\Política de Reembolsos (Viagens e Despesas).pdf', 'total_pages': 1, 'format': 'PDF 1.4', 'title': 'Imersão: Política de Reembolsos (Viagens e Despesas)', 'author': '', 'subject': '', 'keywords': '', 'moddate': '', 'trapped': '', 'modDate': '', 'creationDate': '', 'page': 0}, page_content='5.\\u200b Cursos e certificações: exigem aprovação prévia do gestor e orçamento do time.\\u200b\\n \\n6.\\u200b Custos excepcionais (ex.: franquia de bagagem extra): devem ser justificados no \\nchamado e aprovados antes da compra.'), Document(metadata={'producer': 'Skia/PDF m140 Google Docs Renderer', 'creator': '', 'creationdate': '', 'source': 'pdfs\\\\Política de Uso de E-mail e Segurança da Informação.pdf', 'file_path': 'pdfs\\\\Política de Uso de E-mail e Segurança da Informação.pdf', 'total_pages': 1, 'format': 'PDF 1.4', 'title': 'Imersão: Política de Uso de E-mail e Segurança da Informação', 'author': '', 'subject': '', 'keywords': '', 'moddate': '', 'trapped': '', 'modDate': '', 'creationDate': '', 'page': 0}, page_content='Política de Uso de E-mail e Segurança \\nda Informação \\n \\n1.\\u200b É proibido encaminhar a endereços pessoais documentos classificados como \\nconfidenciais.\\u200b\\n \\n2.\\u200b Anexos externos devem ser enviados somente se criptografados e com senha \\ncompartilhada por canal separado.\\u200b'), Document(metadata={'producer': 'Skia/PDF m140 Google Docs Renderer', 'creator': '', 'creationdate': '', 'source': 'pdfs\\\\Política de Uso de E-mail e Segurança da Informação.pdf', 'file_path': 'pdfs\\\\Política de Uso de E-mail e Segurança da Informação.pdf', 'total_pages': 1, 'format': 'PDF 1.4', 'title': 'Imersão: Política de Uso de E-mail e Segurança da Informação', 'author': '', 'subject': '', 'keywords': '', 'moddate': '', 'trapped': '', 'modDate': '', 'creationDate': '', 'page': 0}, page_content='3.\\u200b Phishing: verifique remetente e domínios suspeitos. Reporte mensagens suspeitas \\nao time de Segurança imediatamente.\\u200b\\n \\n4.\\u200b Retenção: mensagens que contenham dados pessoais devem seguir as diretrizes \\nde retenção definidas pela equipe de Privacidade.\\u200b'), Document(metadata={'producer': 'Skia/PDF m140 Google Docs Renderer', 'creator': '', 'creationdate': '', 'source': 'pdfs\\\\Política de Uso de E-mail e Segurança da Informação.pdf', 'file_path': 'pdfs\\\\Política de Uso de E-mail e Segurança da Informação.pdf', 'total_pages': 1, 'format': 'PDF 1.4', 'title': 'Imersão: Política de Uso de E-mail e Segurança da Informação', 'author': '', 'subject': '', 'keywords': '', 'moddate': '', 'trapped': '', 'modDate': '', 'creationDate': '', 'page': 0}, page_content='5.\\u200b Solicitações de liberação de anexos ou domínios devem ser abertas por chamado, \\ncom justificativa do gestor.'), Document(metadata={'producer': 'Skia/PDF m140 Google Docs Renderer', 'creator': '', 'creationdate': '', 'source': 'pdfs\\\\Políticas de Home Office.pdf', 'file_path': 'pdfs\\\\Políticas de Home Office.pdf', 'total_pages': 1, 'format': 'PDF 1.4', 'title': 'Políticas de Home Office', 'author': '', 'subject': '', 'keywords': '', 'moddate': '', 'trapped': '', 'modDate': '', 'creationDate': '', 'page': 0}, page_content='Políticas de Home Office \\n \\n1.\\u200b A empresa adota modelo híbrido: mínimo de 2 dias presenciais por semana, salvo \\nexceções aprovadas pelo gestor e RH.\\u200b\\n \\n2.\\u200b Equipamentos: a empresa fornece notebook e periféricos. O colaborador é \\nresponsável por zelar pela conservação.\\u200b'), Document(metadata={'producer': 'Skia/PDF m140 Google Docs Renderer', 'creator': '', 'creationdate': '', 'source': 'pdfs\\\\Políticas de Home Office.pdf', 'file_path': 'pdfs\\\\Políticas de Home Office.pdf', 'total_pages': 1, 'format': 'PDF 1.4', 'title': 'Políticas de Home Office', 'author': '', 'subject': '', 'keywords': '', 'moddate': '', 'trapped': '', 'modDate': '', 'creationDate': '', 'page': 0}, page_content='3.\\u200b Segurança: é obrigatório uso de VPN e bloqueio de tela. Documentos confidenciais \\nnão devem ser impressos fora do escritório.\\u200b\\n \\n4.\\u200b Ergonomia: recomendamos cadeira adequada e suporte de monitor. O RH pode \\navaliar solicitação de apoio ergonômico.\\u200b'), Document(metadata={'producer': 'Skia/PDF m140 Google Docs Renderer', 'creator': '', 'creationdate': '', 'source': 'pdfs\\\\Políticas de Home Office.pdf', 'file_path': 'pdfs\\\\Políticas de Home Office.pdf', 'total_pages': 1, 'format': 'PDF 1.4', 'title': 'Políticas de Home Office', 'author': '', 'subject': '', 'keywords': '', 'moddate': '', 'trapped': '', 'modDate': '', 'creationDate': '', 'page': 0}, page_content='5.\\u200b Conectividade: há subsídio mensal de internet domiciliar para quem trabalha em \\nhome office: até R$ 100/mês, mediante nota fiscal nominal.\\u200b\\n \\n6.\\u200b Solicitação de exceção (ex.: 4-5 dias remotos): deve ser formalizada via chamado \\nao RH com justificativa do gestor.')]\n"
     ]
    }
   ],
   "source": [
    "from langchain_text_splitters import RecursiveCharacterTextSplitter\n",
    "\n",
    "splitter = RecursiveCharacterTextSplitter(chunk_size=300, chunk_overlap=30)\n",
    "\n",
    "chunks = splitter.split_documents(docs)\n",
    "\n",
    "print(chunks)"
   ]
  },
  {
   "cell_type": "code",
   "execution_count": 24,
   "id": "5fb39420",
   "metadata": {},
   "outputs": [
    {
     "name": "stdout",
     "output_type": "stream",
     "text": [
      "page_content='Política de Reembolsos (Viagens e \n",
      "Despesas) \n",
      " \n",
      "1.​ Reembolso: requer nota fiscal e deve ser submetido em até 10 dias corridos após a \n",
      "despesa.​\n",
      " \n",
      "2.​ Alimentação em viagem: limite de R$ 70/dia por pessoa. Bebidas alcoólicas não \n",
      "são reembolsáveis.​' metadata={'producer': 'Skia/PDF m140 Google Docs Renderer', 'creator': '', 'creationdate': '', 'source': 'pdfs\\\\Política de Reembolsos (Viagens e Despesas).pdf', 'file_path': 'pdfs\\\\Política de Reembolsos (Viagens e Despesas).pdf', 'total_pages': 1, 'format': 'PDF 1.4', 'title': 'Imersão: Política de Reembolsos (Viagens e Despesas)', 'author': '', 'subject': '', 'keywords': '', 'moddate': '', 'trapped': '', 'modDate': '', 'creationDate': '', 'page': 0}\n",
      "------------------------------------------------\n",
      "page_content='são reembolsáveis.​\n",
      " \n",
      "3.​ Transporte: táxi/app são permitidos quando não houver alternativa viável. \n",
      "Comprovantes obrigatórios.​\n",
      " \n",
      "4.​ Internet para home office: reembolsável via subsídio mensal de até R$ 100, \n",
      "conforme política de Home Office.​' metadata={'producer': 'Skia/PDF m140 Google Docs Renderer', 'creator': '', 'creationdate': '', 'source': 'pdfs\\\\Política de Reembolsos (Viagens e Despesas).pdf', 'file_path': 'pdfs\\\\Política de Reembolsos (Viagens e Despesas).pdf', 'total_pages': 1, 'format': 'PDF 1.4', 'title': 'Imersão: Política de Reembolsos (Viagens e Despesas)', 'author': '', 'subject': '', 'keywords': '', 'moddate': '', 'trapped': '', 'modDate': '', 'creationDate': '', 'page': 0}\n",
      "------------------------------------------------\n",
      "page_content='5.​ Cursos e certificações: exigem aprovação prévia do gestor e orçamento do time.​\n",
      " \n",
      "6.​ Custos excepcionais (ex.: franquia de bagagem extra): devem ser justificados no \n",
      "chamado e aprovados antes da compra.' metadata={'producer': 'Skia/PDF m140 Google Docs Renderer', 'creator': '', 'creationdate': '', 'source': 'pdfs\\\\Política de Reembolsos (Viagens e Despesas).pdf', 'file_path': 'pdfs\\\\Política de Reembolsos (Viagens e Despesas).pdf', 'total_pages': 1, 'format': 'PDF 1.4', 'title': 'Imersão: Política de Reembolsos (Viagens e Despesas)', 'author': '', 'subject': '', 'keywords': '', 'moddate': '', 'trapped': '', 'modDate': '', 'creationDate': '', 'page': 0}\n",
      "------------------------------------------------\n",
      "page_content='Política de Uso de E-mail e Segurança \n",
      "da Informação \n",
      " \n",
      "1.​ É proibido encaminhar a endereços pessoais documentos classificados como \n",
      "confidenciais.​\n",
      " \n",
      "2.​ Anexos externos devem ser enviados somente se criptografados e com senha \n",
      "compartilhada por canal separado.​' metadata={'producer': 'Skia/PDF m140 Google Docs Renderer', 'creator': '', 'creationdate': '', 'source': 'pdfs\\\\Política de Uso de E-mail e Segurança da Informação.pdf', 'file_path': 'pdfs\\\\Política de Uso de E-mail e Segurança da Informação.pdf', 'total_pages': 1, 'format': 'PDF 1.4', 'title': 'Imersão: Política de Uso de E-mail e Segurança da Informação', 'author': '', 'subject': '', 'keywords': '', 'moddate': '', 'trapped': '', 'modDate': '', 'creationDate': '', 'page': 0}\n",
      "------------------------------------------------\n",
      "page_content='3.​ Phishing: verifique remetente e domínios suspeitos. Reporte mensagens suspeitas \n",
      "ao time de Segurança imediatamente.​\n",
      " \n",
      "4.​ Retenção: mensagens que contenham dados pessoais devem seguir as diretrizes \n",
      "de retenção definidas pela equipe de Privacidade.​' metadata={'producer': 'Skia/PDF m140 Google Docs Renderer', 'creator': '', 'creationdate': '', 'source': 'pdfs\\\\Política de Uso de E-mail e Segurança da Informação.pdf', 'file_path': 'pdfs\\\\Política de Uso de E-mail e Segurança da Informação.pdf', 'total_pages': 1, 'format': 'PDF 1.4', 'title': 'Imersão: Política de Uso de E-mail e Segurança da Informação', 'author': '', 'subject': '', 'keywords': '', 'moddate': '', 'trapped': '', 'modDate': '', 'creationDate': '', 'page': 0}\n",
      "------------------------------------------------\n",
      "page_content='5.​ Solicitações de liberação de anexos ou domínios devem ser abertas por chamado, \n",
      "com justificativa do gestor.' metadata={'producer': 'Skia/PDF m140 Google Docs Renderer', 'creator': '', 'creationdate': '', 'source': 'pdfs\\\\Política de Uso de E-mail e Segurança da Informação.pdf', 'file_path': 'pdfs\\\\Política de Uso de E-mail e Segurança da Informação.pdf', 'total_pages': 1, 'format': 'PDF 1.4', 'title': 'Imersão: Política de Uso de E-mail e Segurança da Informação', 'author': '', 'subject': '', 'keywords': '', 'moddate': '', 'trapped': '', 'modDate': '', 'creationDate': '', 'page': 0}\n",
      "------------------------------------------------\n",
      "page_content='Políticas de Home Office \n",
      " \n",
      "1.​ A empresa adota modelo híbrido: mínimo de 2 dias presenciais por semana, salvo \n",
      "exceções aprovadas pelo gestor e RH.​\n",
      " \n",
      "2.​ Equipamentos: a empresa fornece notebook e periféricos. O colaborador é \n",
      "responsável por zelar pela conservação.​' metadata={'producer': 'Skia/PDF m140 Google Docs Renderer', 'creator': '', 'creationdate': '', 'source': 'pdfs\\\\Políticas de Home Office.pdf', 'file_path': 'pdfs\\\\Políticas de Home Office.pdf', 'total_pages': 1, 'format': 'PDF 1.4', 'title': 'Políticas de Home Office', 'author': '', 'subject': '', 'keywords': '', 'moddate': '', 'trapped': '', 'modDate': '', 'creationDate': '', 'page': 0}\n",
      "------------------------------------------------\n",
      "page_content='3.​ Segurança: é obrigatório uso de VPN e bloqueio de tela. Documentos confidenciais \n",
      "não devem ser impressos fora do escritório.​\n",
      " \n",
      "4.​ Ergonomia: recomendamos cadeira adequada e suporte de monitor. O RH pode \n",
      "avaliar solicitação de apoio ergonômico.​' metadata={'producer': 'Skia/PDF m140 Google Docs Renderer', 'creator': '', 'creationdate': '', 'source': 'pdfs\\\\Políticas de Home Office.pdf', 'file_path': 'pdfs\\\\Políticas de Home Office.pdf', 'total_pages': 1, 'format': 'PDF 1.4', 'title': 'Políticas de Home Office', 'author': '', 'subject': '', 'keywords': '', 'moddate': '', 'trapped': '', 'modDate': '', 'creationDate': '', 'page': 0}\n",
      "------------------------------------------------\n",
      "page_content='5.​ Conectividade: há subsídio mensal de internet domiciliar para quem trabalha em \n",
      "home office: até R$ 100/mês, mediante nota fiscal nominal.​\n",
      " \n",
      "6.​ Solicitação de exceção (ex.: 4-5 dias remotos): deve ser formalizada via chamado \n",
      "ao RH com justificativa do gestor.' metadata={'producer': 'Skia/PDF m140 Google Docs Renderer', 'creator': '', 'creationdate': '', 'source': 'pdfs\\\\Políticas de Home Office.pdf', 'file_path': 'pdfs\\\\Políticas de Home Office.pdf', 'total_pages': 1, 'format': 'PDF 1.4', 'title': 'Políticas de Home Office', 'author': '', 'subject': '', 'keywords': '', 'moddate': '', 'trapped': '', 'modDate': '', 'creationDate': '', 'page': 0}\n",
      "------------------------------------------------\n"
     ]
    }
   ],
   "source": [
    "for chunk in chunks:\n",
    "    \n",
    "    print(chunk)\n",
    "    print(\"------------------------------------------------\")"
   ]
  },
  {
   "cell_type": "markdown",
   "id": "bcb4125d",
   "metadata": {},
   "source": [
    "                                    Embedding\n",
    "\n",
    "-> Em Inteligência artificial, um embedding é uma forma de representar dados\n",
    "(como palavras, frases, imagens, ou qualquer outra coisa) como uma sequência\n",
    "de numeros, ou seja, um vetor.\n",
    "\n",
    "-> Pense nisso como um mapa. Se você quer representar cidades em um mapa, você\n",
    "usa duas coordenadas: latitude e longitude. Cidades que estão perto uma da outra no mundo real também estarão perto no mapa.\n",
    "\n",
    "-> Com os embeddings, a lógica é a mesma, mas em um espaço com muita dimensões\n",
    "(centenas ou até milhares). O que importa não éa posição, mas sim a distância \n",
    "entre os valores.\n",
    "\n",
    "    -> Palavras ou frases com significado semelhante (ex: \"cachorro\", \"cão\", \"pet\") terão vetores com distâncias muito pequenas entre si.\n",
    "\n",
    "    -> Palavras com significados opostos ou não relacionados (\"cachorro\", \"carro\", \"nuvem\") terão vetores com distâncias grandes.\n",
    "\n",
    "-> O principal objetivo de um embedding é traduzir informações complexas para\n",
    "uma linguagem numérica que os modelos de IA conseguem entender e processar de \n",
    "forma eficiente. "
   ]
  },
  {
   "cell_type": "code",
   "execution_count": 27,
   "id": "1fedbe7d",
   "metadata": {},
   "outputs": [],
   "source": [
    "from langchain_google_genai import GoogleGenerativeAIEmbeddings\n",
    "\n",
    "embeddings = GoogleGenerativeAIEmbeddings(\n",
    "    \n",
    "    model = \"models/gemini-embedding-001\",\n",
    "    \n",
    "    google_api_key = api_key\n",
    ")"
   ]
  },
  {
   "cell_type": "code",
   "execution_count": 32,
   "id": "912cf4d0",
   "metadata": {},
   "outputs": [],
   "source": [
    "from langchain_community.vectorstores import FAISS\n",
    "\n",
    "vectorstore = FAISS.from_documents(chunks, embeddings)\n",
    "\n",
    "buscador = vectorstore.as_retriever(search_type=\"similarity_score_threshold\",\n",
    "                                     search_kwargs={\"score_threshold\":0.3, \"k\": 4})"
   ]
  },
  {
   "cell_type": "code",
   "execution_count": 38,
   "id": "8453405d",
   "metadata": {},
   "outputs": [],
   "source": [
    "from langchain_core.prompts import  ChatPromptTemplate\n",
    "\n",
    "from langchain.chains.combine_documents import create_stuff_documents_chain\n",
    "\n",
    "prompt_rag = ChatPromptTemplate.from_messages([\n",
    "    \n",
    "    (\"system\",\n",
    "     \"Você é um Assistente de Políticas Internas (RH/IT) da empresa Carraro Desenvolvimento. \"\n",
    "     \"Responda SOMENTE com base no contexto fornecido. \"\n",
    "     \"Se não houver base suficiente, responda apenas 'Não sei'.\"),\n",
    "    \n",
    "      (\"human\", \"Pergunta: {pergunta}\\n\\nContexto:\\n{context}\")\n",
    "    \n",
    "])\n",
    "\n",
    "document_chain = create_stuff_documents_chain(llm_triagem, prompt_rag)"
   ]
  },
  {
   "cell_type": "code",
   "execution_count": 41,
   "id": "393efd62",
   "metadata": {},
   "outputs": [],
   "source": [
    "def perguntar_politica_rag(pergunta:str) -> Dict:\n",
    "    \n",
    "    docs_relacionados = buscador.invoke(pergunta)\n",
    "    \n",
    "    if not docs_relacionados:\n",
    "        \n",
    "        return {\"answer\": \"Não sei\", \"citações\":[], \"contexto_encontrado\": False}\n",
    "    \n",
    "    answer = document_chain.invoke({\"pergunta\":pergunta, \"context\": docs_relacionados })\n",
    "    \n",
    "    txt = (answer or \"\").strip()\n",
    "    \n",
    "    if txt.rstrip(\".!?\") == \"Não sei\":\n",
    "        \n",
    "        return {\"answer\": \"Não sei\", \"citações\":[], \"contexto_encontrado\": False}\n",
    "    \n",
    "    return {\"answer\": txt, \"citações\":docs_relacionados, \"contexto_encontrado\": True}"
   ]
  },
  {
   "cell_type": "code",
   "execution_count": 35,
   "id": "4235a36d",
   "metadata": {},
   "outputs": [],
   "source": [
    "testes = [\"Posso reembolsar a internet?\", \"Quero mais dias de trabalho remoto, como faço?\", \"posso reembolsar cursos ou treinamentos da Alura?\", \"Quantas capivaras tem no rio pinheiros\"]"
   ]
  },
  {
   "cell_type": "code",
   "execution_count": 45,
   "id": "5ac30bb7",
   "metadata": {},
   "outputs": [
    {
     "name": "stdout",
     "output_type": "stream",
     "text": [
      "pergunta: Posso reembolsar a internet?\n",
      "Resposta: Sim, a internet para home office é reembolsável via subsídio mensal de até R$ 100, mediante nota fiscal nominal.\n",
      "citações: [Document(id='df59fb00-1132-4ad5-b222-66c6df9ddc43', metadata={'producer': 'Skia/PDF m140 Google Docs Renderer', 'creator': '', 'creationdate': '', 'source': 'pdfs\\\\Política de Reembolsos (Viagens e Despesas).pdf', 'file_path': 'pdfs\\\\Política de Reembolsos (Viagens e Despesas).pdf', 'total_pages': 1, 'format': 'PDF 1.4', 'title': 'Imersão: Política de Reembolsos (Viagens e Despesas)', 'author': '', 'subject': '', 'keywords': '', 'moddate': '', 'trapped': '', 'modDate': '', 'creationDate': '', 'page': 0}, page_content='são reembolsáveis.\\u200b\\n \\n3.\\u200b Transporte: táxi/app são permitidos quando não houver alternativa viável. \\nComprovantes obrigatórios.\\u200b\\n \\n4.\\u200b Internet para home office: reembolsável via subsídio mensal de até R$ 100, \\nconforme política de Home Office.\\u200b'), Document(id='6fe7567c-de7e-45ee-aac3-e374bc721452', metadata={'producer': 'Skia/PDF m140 Google Docs Renderer', 'creator': '', 'creationdate': '', 'source': 'pdfs\\\\Política de Reembolsos (Viagens e Despesas).pdf', 'file_path': 'pdfs\\\\Política de Reembolsos (Viagens e Despesas).pdf', 'total_pages': 1, 'format': 'PDF 1.4', 'title': 'Imersão: Política de Reembolsos (Viagens e Despesas)', 'author': '', 'subject': '', 'keywords': '', 'moddate': '', 'trapped': '', 'modDate': '', 'creationDate': '', 'page': 0}, page_content='Política de Reembolsos (Viagens e \\nDespesas) \\n \\n1.\\u200b Reembolso: requer nota fiscal e deve ser submetido em até 10 dias corridos após a \\ndespesa.\\u200b\\n \\n2.\\u200b Alimentação em viagem: limite de R$ 70/dia por pessoa. Bebidas alcoólicas não \\nsão reembolsáveis.\\u200b'), Document(id='6ef3a749-7884-4877-97c4-a55ac4d86938', metadata={'producer': 'Skia/PDF m140 Google Docs Renderer', 'creator': '', 'creationdate': '', 'source': 'pdfs\\\\Políticas de Home Office.pdf', 'file_path': 'pdfs\\\\Políticas de Home Office.pdf', 'total_pages': 1, 'format': 'PDF 1.4', 'title': 'Políticas de Home Office', 'author': '', 'subject': '', 'keywords': '', 'moddate': '', 'trapped': '', 'modDate': '', 'creationDate': '', 'page': 0}, page_content='5.\\u200b Conectividade: há subsídio mensal de internet domiciliar para quem trabalha em \\nhome office: até R$ 100/mês, mediante nota fiscal nominal.\\u200b\\n \\n6.\\u200b Solicitação de exceção (ex.: 4-5 dias remotos): deve ser formalizada via chamado \\nao RH com justificativa do gestor.'), Document(id='5e5992cb-d40d-4044-ae72-05d8b8896ecd', metadata={'producer': 'Skia/PDF m140 Google Docs Renderer', 'creator': '', 'creationdate': '', 'source': 'pdfs\\\\Políticas de Home Office.pdf', 'file_path': 'pdfs\\\\Políticas de Home Office.pdf', 'total_pages': 1, 'format': 'PDF 1.4', 'title': 'Políticas de Home Office', 'author': '', 'subject': '', 'keywords': '', 'moddate': '', 'trapped': '', 'modDate': '', 'creationDate': '', 'page': 0}, page_content='Políticas de Home Office \\n \\n1.\\u200b A empresa adota modelo híbrido: mínimo de 2 dias presenciais por semana, salvo \\nexceções aprovadas pelo gestor e RH.\\u200b\\n \\n2.\\u200b Equipamentos: a empresa fornece notebook e periféricos. O colaborador é \\nresponsável por zelar pela conservação.\\u200b')]\n",
      "------------------------------------\n",
      "pergunta: Quero mais dias de trabalho remoto, como faço?\n",
      "Resposta: Para solicitar mais dias de trabalho remoto (ex.: 4-5 dias remotos), você deve formalizar a solicitação via chamado ao RH, com a justificativa do seu gestor. Lembre-se que a empresa adota um modelo híbrido com mínimo de 2 dias presenciais por semana, salvo exceções aprovadas pelo gestor e RH.\n",
      "citações: [Document(id='6ef3a749-7884-4877-97c4-a55ac4d86938', metadata={'producer': 'Skia/PDF m140 Google Docs Renderer', 'creator': '', 'creationdate': '', 'source': 'pdfs\\\\Políticas de Home Office.pdf', 'file_path': 'pdfs\\\\Políticas de Home Office.pdf', 'total_pages': 1, 'format': 'PDF 1.4', 'title': 'Políticas de Home Office', 'author': '', 'subject': '', 'keywords': '', 'moddate': '', 'trapped': '', 'modDate': '', 'creationDate': '', 'page': 0}, page_content='5.\\u200b Conectividade: há subsídio mensal de internet domiciliar para quem trabalha em \\nhome office: até R$ 100/mês, mediante nota fiscal nominal.\\u200b\\n \\n6.\\u200b Solicitação de exceção (ex.: 4-5 dias remotos): deve ser formalizada via chamado \\nao RH com justificativa do gestor.'), Document(id='5e5992cb-d40d-4044-ae72-05d8b8896ecd', metadata={'producer': 'Skia/PDF m140 Google Docs Renderer', 'creator': '', 'creationdate': '', 'source': 'pdfs\\\\Políticas de Home Office.pdf', 'file_path': 'pdfs\\\\Políticas de Home Office.pdf', 'total_pages': 1, 'format': 'PDF 1.4', 'title': 'Políticas de Home Office', 'author': '', 'subject': '', 'keywords': '', 'moddate': '', 'trapped': '', 'modDate': '', 'creationDate': '', 'page': 0}, page_content='Políticas de Home Office \\n \\n1.\\u200b A empresa adota modelo híbrido: mínimo de 2 dias presenciais por semana, salvo \\nexceções aprovadas pelo gestor e RH.\\u200b\\n \\n2.\\u200b Equipamentos: a empresa fornece notebook e periféricos. O colaborador é \\nresponsável por zelar pela conservação.\\u200b'), Document(id='df59fb00-1132-4ad5-b222-66c6df9ddc43', metadata={'producer': 'Skia/PDF m140 Google Docs Renderer', 'creator': '', 'creationdate': '', 'source': 'pdfs\\\\Política de Reembolsos (Viagens e Despesas).pdf', 'file_path': 'pdfs\\\\Política de Reembolsos (Viagens e Despesas).pdf', 'total_pages': 1, 'format': 'PDF 1.4', 'title': 'Imersão: Política de Reembolsos (Viagens e Despesas)', 'author': '', 'subject': '', 'keywords': '', 'moddate': '', 'trapped': '', 'modDate': '', 'creationDate': '', 'page': 0}, page_content='são reembolsáveis.\\u200b\\n \\n3.\\u200b Transporte: táxi/app são permitidos quando não houver alternativa viável. \\nComprovantes obrigatórios.\\u200b\\n \\n4.\\u200b Internet para home office: reembolsável via subsídio mensal de até R$ 100, \\nconforme política de Home Office.\\u200b'), Document(id='10351d05-e0ca-400b-a45d-9ff40d42a1d7', metadata={'producer': 'Skia/PDF m140 Google Docs Renderer', 'creator': '', 'creationdate': '', 'source': 'pdfs\\\\Políticas de Home Office.pdf', 'file_path': 'pdfs\\\\Políticas de Home Office.pdf', 'total_pages': 1, 'format': 'PDF 1.4', 'title': 'Políticas de Home Office', 'author': '', 'subject': '', 'keywords': '', 'moddate': '', 'trapped': '', 'modDate': '', 'creationDate': '', 'page': 0}, page_content='3.\\u200b Segurança: é obrigatório uso de VPN e bloqueio de tela. Documentos confidenciais \\nnão devem ser impressos fora do escritório.\\u200b\\n \\n4.\\u200b Ergonomia: recomendamos cadeira adequada e suporte de monitor. O RH pode \\navaliar solicitação de apoio ergonômico.\\u200b')]\n",
      "------------------------------------\n",
      "pergunta: posso reembolsar cursos ou treinamentos da Alura?\n",
      "Resposta: Sim, cursos e certificações (o que inclui treinamentos como os da Alura) são reembolsáveis, desde que haja aprovação prévia do gestor e orçamento do time.\n",
      "citações: [Document(id='6fe7567c-de7e-45ee-aac3-e374bc721452', metadata={'producer': 'Skia/PDF m140 Google Docs Renderer', 'creator': '', 'creationdate': '', 'source': 'pdfs\\\\Política de Reembolsos (Viagens e Despesas).pdf', 'file_path': 'pdfs\\\\Política de Reembolsos (Viagens e Despesas).pdf', 'total_pages': 1, 'format': 'PDF 1.4', 'title': 'Imersão: Política de Reembolsos (Viagens e Despesas)', 'author': '', 'subject': '', 'keywords': '', 'moddate': '', 'trapped': '', 'modDate': '', 'creationDate': '', 'page': 0}, page_content='Política de Reembolsos (Viagens e \\nDespesas) \\n \\n1.\\u200b Reembolso: requer nota fiscal e deve ser submetido em até 10 dias corridos após a \\ndespesa.\\u200b\\n \\n2.\\u200b Alimentação em viagem: limite de R$ 70/dia por pessoa. Bebidas alcoólicas não \\nsão reembolsáveis.\\u200b'), Document(id='e8f6803d-6b3f-4f4d-bd02-ba36b237a030', metadata={'producer': 'Skia/PDF m140 Google Docs Renderer', 'creator': '', 'creationdate': '', 'source': 'pdfs\\\\Política de Reembolsos (Viagens e Despesas).pdf', 'file_path': 'pdfs\\\\Política de Reembolsos (Viagens e Despesas).pdf', 'total_pages': 1, 'format': 'PDF 1.4', 'title': 'Imersão: Política de Reembolsos (Viagens e Despesas)', 'author': '', 'subject': '', 'keywords': '', 'moddate': '', 'trapped': '', 'modDate': '', 'creationDate': '', 'page': 0}, page_content='5.\\u200b Cursos e certificações: exigem aprovação prévia do gestor e orçamento do time.\\u200b\\n \\n6.\\u200b Custos excepcionais (ex.: franquia de bagagem extra): devem ser justificados no \\nchamado e aprovados antes da compra.'), Document(id='df59fb00-1132-4ad5-b222-66c6df9ddc43', metadata={'producer': 'Skia/PDF m140 Google Docs Renderer', 'creator': '', 'creationdate': '', 'source': 'pdfs\\\\Política de Reembolsos (Viagens e Despesas).pdf', 'file_path': 'pdfs\\\\Política de Reembolsos (Viagens e Despesas).pdf', 'total_pages': 1, 'format': 'PDF 1.4', 'title': 'Imersão: Política de Reembolsos (Viagens e Despesas)', 'author': '', 'subject': '', 'keywords': '', 'moddate': '', 'trapped': '', 'modDate': '', 'creationDate': '', 'page': 0}, page_content='são reembolsáveis.\\u200b\\n \\n3.\\u200b Transporte: táxi/app são permitidos quando não houver alternativa viável. \\nComprovantes obrigatórios.\\u200b\\n \\n4.\\u200b Internet para home office: reembolsável via subsídio mensal de até R$ 100, \\nconforme política de Home Office.\\u200b'), Document(id='5e5992cb-d40d-4044-ae72-05d8b8896ecd', metadata={'producer': 'Skia/PDF m140 Google Docs Renderer', 'creator': '', 'creationdate': '', 'source': 'pdfs\\\\Políticas de Home Office.pdf', 'file_path': 'pdfs\\\\Políticas de Home Office.pdf', 'total_pages': 1, 'format': 'PDF 1.4', 'title': 'Políticas de Home Office', 'author': '', 'subject': '', 'keywords': '', 'moddate': '', 'trapped': '', 'modDate': '', 'creationDate': '', 'page': 0}, page_content='Políticas de Home Office \\n \\n1.\\u200b A empresa adota modelo híbrido: mínimo de 2 dias presenciais por semana, salvo \\nexceções aprovadas pelo gestor e RH.\\u200b\\n \\n2.\\u200b Equipamentos: a empresa fornece notebook e periféricos. O colaborador é \\nresponsável por zelar pela conservação.\\u200b')]\n",
      "------------------------------------\n",
      "pergunta: Quantas capivaras tem no rio pinheiros\n",
      "Resposta: Não sei\n"
     ]
    }
   ],
   "source": [
    "for i in testes:\n",
    "    \n",
    "    resposta = perguntar_politica_rag(i)\n",
    "    \n",
    "    print(f\"pergunta: {i}\")\n",
    "    \n",
    "    print(f\"Resposta: {resposta['answer']}\")\n",
    "    \n",
    "    if resposta['contexto_encontrado']:\n",
    "        \n",
    "        print(f\"citações: {resposta['citações']}\")\n",
    "        \n",
    "        print(\"------------------------------------\")"
   ]
  }
 ],
 "metadata": {
  "kernelspec": {
   "display_name": "Python 3",
   "language": "python",
   "name": "python3"
  },
  "language_info": {
   "codemirror_mode": {
    "name": "ipython",
    "version": 3
   },
   "file_extension": ".py",
   "mimetype": "text/x-python",
   "name": "python",
   "nbconvert_exporter": "python",
   "pygments_lexer": "ipython3",
   "version": "3.12.10"
  }
 },
 "nbformat": 4,
 "nbformat_minor": 5
}
